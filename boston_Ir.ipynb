{
 "cells": [
  {
   "cell_type": "code",
   "execution_count": 1,
   "id": "b52e49db",
   "metadata": {},
   "outputs": [],
   "source": [
    "import matplotlib.pyplot as plt\n",
    "import numpy as np\n",
    "import pandas as pd\n",
    "import tensorflow as tf\n",
    "# from sklearn.datasets import load_boston"
   ]
  },
  {
   "cell_type": "code",
   "execution_count": 2,
   "id": "88deb5c3",
   "metadata": {},
   "outputs": [],
   "source": [
    "    data_url = \"http://lib.stat.cmu.edu/datasets/boston\"\n",
    "    raw_df = pd.read_csv(data_url, sep=\"\\s+\", skiprows=22, header=None)\n",
    "    data = np.hstack([raw_df.values[::2, :], raw_df.values[1::2, :2]])\n",
    "    target = raw_df.values[1::2, 2]"
   ]
  },
  {
   "cell_type": "code",
   "execution_count": 3,
   "id": "f76b6939",
   "metadata": {},
   "outputs": [],
   "source": [
    "features=np.array(data)\n",
    "labels=np.array(target)"
   ]
  },
  {
   "cell_type": "code",
   "execution_count": 4,
   "id": "0d514905",
   "metadata": {},
   "outputs": [
    {
     "name": "stdout",
     "output_type": "stream",
     "text": [
      "[[6.3200e-03 1.8000e+01 2.3100e+00 ... 1.5300e+01 3.9690e+02 4.9800e+00]\n",
      " [2.7310e-02 0.0000e+00 7.0700e+00 ... 1.7800e+01 3.9690e+02 9.1400e+00]\n",
      " [2.7290e-02 0.0000e+00 7.0700e+00 ... 1.7800e+01 3.9283e+02 4.0300e+00]\n",
      " ...\n",
      " [6.0760e-02 0.0000e+00 1.1930e+01 ... 2.1000e+01 3.9690e+02 5.6400e+00]\n",
      " [1.0959e-01 0.0000e+00 1.1930e+01 ... 2.1000e+01 3.9345e+02 6.4800e+00]\n",
      " [4.7410e-02 0.0000e+00 1.1930e+01 ... 2.1000e+01 3.9690e+02 7.8800e+00]]\n",
      "[24.  21.6 34.7 33.4 36.2 28.7 22.9 27.1 16.5 18.9 15.  18.9 21.7 20.4\n",
      " 18.2 19.9 23.1 17.5 20.2 18.2 13.6 19.6 15.2 14.5 15.6 13.9 16.6 14.8\n",
      " 18.4 21.  12.7 14.5 13.2 13.1 13.5 18.9 20.  21.  24.7 30.8 34.9 26.6\n",
      " 25.3 24.7 21.2 19.3 20.  16.6 14.4 19.4 19.7 20.5 25.  23.4 18.9 35.4\n",
      " 24.7 31.6 23.3 19.6 18.7 16.  22.2 25.  33.  23.5 19.4 22.  17.4 20.9\n",
      " 24.2 21.7 22.8 23.4 24.1 21.4 20.  20.8 21.2 20.3 28.  23.9 24.8 22.9\n",
      " 23.9 26.6 22.5 22.2 23.6 28.7 22.6 22.  22.9 25.  20.6 28.4 21.4 38.7\n",
      " 43.8 33.2 27.5 26.5 18.6 19.3 20.1 19.5 19.5 20.4 19.8 19.4 21.7 22.8\n",
      " 18.8 18.7 18.5 18.3 21.2 19.2 20.4 19.3 22.  20.3 20.5 17.3 18.8 21.4\n",
      " 15.7 16.2 18.  14.3 19.2 19.6 23.  18.4 15.6 18.1 17.4 17.1 13.3 17.8\n",
      " 14.  14.4 13.4 15.6 11.8 13.8 15.6 14.6 17.8 15.4 21.5 19.6 15.3 19.4\n",
      " 17.  15.6 13.1 41.3 24.3 23.3 27.  50.  50.  50.  22.7 25.  50.  23.8\n",
      " 23.8 22.3 17.4 19.1 23.1 23.6 22.6 29.4 23.2 24.6 29.9 37.2 39.8 36.2\n",
      " 37.9 32.5 26.4 29.6 50.  32.  29.8 34.9 37.  30.5 36.4 31.1 29.1 50.\n",
      " 33.3 30.3 34.6 34.9 32.9 24.1 42.3 48.5 50.  22.6 24.4 22.5 24.4 20.\n",
      " 21.7 19.3 22.4 28.1 23.7 25.  23.3 28.7 21.5 23.  26.7 21.7 27.5 30.1\n",
      " 44.8 50.  37.6 31.6 46.7 31.5 24.3 31.7 41.7 48.3 29.  24.  25.1 31.5\n",
      " 23.7 23.3 22.  20.1 22.2 23.7 17.6 18.5 24.3 20.5 24.5 26.2 24.4 24.8\n",
      " 29.6 42.8 21.9 20.9 44.  50.  36.  30.1 33.8 43.1 48.8 31.  36.5 22.8\n",
      " 30.7 50.  43.5 20.7 21.1 25.2 24.4 35.2 32.4 32.  33.2 33.1 29.1 35.1\n",
      " 45.4 35.4 46.  50.  32.2 22.  20.1 23.2 22.3 24.8 28.5 37.3 27.9 23.9\n",
      " 21.7 28.6 27.1 20.3 22.5 29.  24.8 22.  26.4 33.1 36.1 28.4 33.4 28.2\n",
      " 22.8 20.3 16.1 22.1 19.4 21.6 23.8 16.2 17.8 19.8 23.1 21.  23.8 23.1\n",
      " 20.4 18.5 25.  24.6 23.  22.2 19.3 22.6 19.8 17.1 19.4 22.2 20.7 21.1\n",
      " 19.5 18.5 20.6 19.  18.7 32.7 16.5 23.9 31.2 17.5 17.2 23.1 24.5 26.6\n",
      " 22.9 24.1 18.6 30.1 18.2 20.6 17.8 21.7 22.7 22.6 25.  19.9 20.8 16.8\n",
      " 21.9 27.5 21.9 23.1 50.  50.  50.  50.  50.  13.8 13.8 15.  13.9 13.3\n",
      " 13.1 10.2 10.4 10.9 11.3 12.3  8.8  7.2 10.5  7.4 10.2 11.5 15.1 23.2\n",
      "  9.7 13.8 12.7 13.1 12.5  8.5  5.   6.3  5.6  7.2 12.1  8.3  8.5  5.\n",
      " 11.9 27.9 17.2 27.5 15.  17.2 17.9 16.3  7.   7.2  7.5 10.4  8.8  8.4\n",
      " 16.7 14.2 20.8 13.4 11.7  8.3 10.2 10.9 11.   9.5 14.5 14.1 16.1 14.3\n",
      " 11.7 13.4  9.6  8.7  8.4 12.8 10.5 17.1 18.4 15.4 10.8 11.8 14.9 12.6\n",
      " 14.1 13.  13.4 15.2 16.1 17.8 14.9 14.1 12.7 13.5 14.9 20.  16.4 17.7\n",
      " 19.5 20.2 21.4 19.9 19.  19.1 19.1 20.1 19.9 19.6 23.2 29.8 13.8 13.3\n",
      " 16.7 12.  14.6 21.4 23.  23.7 25.  21.8 20.6 21.2 19.1 20.6 15.2  7.\n",
      "  8.1 13.6 20.1 21.8 24.5 23.1 19.7 18.3 21.2 17.5 16.8 22.4 20.6 23.9\n",
      " 22.  11.9]\n"
     ]
    }
   ],
   "source": [
    "print(features)\n",
    "print(labels)"
   ]
  },
  {
   "cell_type": "code",
   "execution_count": 5,
   "id": "8f5166e5",
   "metadata": {},
   "outputs": [
    {
     "data": {
      "text/plain": [
       "(506, 13)"
      ]
     },
     "execution_count": 5,
     "metadata": {},
     "output_type": "execute_result"
    }
   ],
   "source": [
    "features.shape"
   ]
  },
  {
   "cell_type": "code",
   "execution_count": 6,
   "id": "fcc4f90c",
   "metadata": {},
   "outputs": [
    {
     "name": "stdout",
     "output_type": "stream",
     "text": [
      "506\n",
      "13\n"
     ]
    }
   ],
   "source": [
    "n_training_samples=features.shape[0]\n",
    "print(n_training_samples)\n",
    "n_dim=features.shape[1]\n",
    "print(n_dim)"
   ]
  },
  {
   "cell_type": "code",
   "execution_count": 7,
   "id": "a6cbbbee",
   "metadata": {},
   "outputs": [],
   "source": [
    "def normalise(dataset):\n",
    "    mu=np.mean(dataset,axis=0)\n",
    "    sigma=np.std(dataset,axis=0)\n",
    "    return (dataset-mu)/sigma\n",
    "features_norm=normalise(features)"
   ]
  },
  {
   "cell_type": "code",
   "execution_count": 8,
   "id": "e9307842",
   "metadata": {},
   "outputs": [
    {
     "data": {
      "text/plain": [
       "array([[-0.41978194,  0.28482986, -1.2879095 , ..., -1.45900038,\n",
       "         0.44105193, -1.0755623 ],\n",
       "       [-0.41733926, -0.48772236, -0.59338101, ..., -0.30309415,\n",
       "         0.44105193, -0.49243937],\n",
       "       [-0.41734159, -0.48772236, -0.59338101, ..., -0.30309415,\n",
       "         0.39642699, -1.2087274 ],\n",
       "       ...,\n",
       "       [-0.41344658, -0.48772236,  0.11573841, ...,  1.17646583,\n",
       "         0.44105193, -0.98304761],\n",
       "       [-0.40776407, -0.48772236,  0.11573841, ...,  1.17646583,\n",
       "         0.4032249 , -0.86530163],\n",
       "       [-0.41500016, -0.48772236,  0.11573841, ...,  1.17646583,\n",
       "         0.44105193, -0.66905833]])"
      ]
     },
     "execution_count": 8,
     "metadata": {},
     "output_type": "execute_result"
    }
   ],
   "source": [
    "features_norm"
   ]
  },
  {
   "cell_type": "code",
   "execution_count": 9,
   "id": "5b5a22b9",
   "metadata": {},
   "outputs": [
    {
     "name": "stdout",
     "output_type": "stream",
     "text": [
      "(339, 13)\n",
      "(167, 13)\n",
      "(339,)\n",
      "(167,)\n"
     ]
    }
   ],
   "source": [
    "from sklearn.model_selection import train_test_split\n",
    "xtrain,xtest,ytrain,ytest=train_test_split(features_norm,labels,test_size=0.33,random_state=42)\n",
    "print(xtrain.shape)\n",
    "print(xtest.shape)\n",
    "print(ytrain.shape)\n",
    "print(ytest.shape)"
   ]
  },
  {
   "cell_type": "code",
   "execution_count": 10,
   "id": "7053232f",
   "metadata": {},
   "outputs": [],
   "source": [
    "xtrain=np.transpose(xtrain)\n",
    "xtest=np.transpose(xtest)\n",
    "ytrain=np.transpose(ytrain)\n",
    "ytest=np.transpose(ytest)"
   ]
  },
  {
   "cell_type": "code",
   "execution_count": 11,
   "id": "326106b2",
   "metadata": {},
   "outputs": [
    {
     "data": {
      "text/plain": [
       "(13, 339)"
      ]
     },
     "execution_count": 11,
     "metadata": {},
     "output_type": "execute_result"
    }
   ],
   "source": [
    "xtrain.shape"
   ]
  },
  {
   "cell_type": "code",
   "execution_count": 12,
   "id": "53808123",
   "metadata": {},
   "outputs": [
    {
     "name": "stdout",
     "output_type": "stream",
     "text": [
      "(1, 339)\n"
     ]
    }
   ],
   "source": [
    "ytrain=ytrain.reshape(1,len(ytrain))\n",
    "print(ytrain.shape)"
   ]
  },
  {
   "cell_type": "code",
   "execution_count": 13,
   "id": "145f7a3f",
   "metadata": {},
   "outputs": [],
   "source": [
    "## construction state"
   ]
  },
  {
   "cell_type": "code",
   "execution_count": 14,
   "id": "066a5020",
   "metadata": {},
   "outputs": [
    {
     "name": "stdout",
     "output_type": "stream",
     "text": [
      "WARNING:tensorflow:From C:\\Users\\archa\\AppData\\Local\\Temp\\ipykernel_16332\\2820872922.py:2: The name tf.disable_v2_behavior is deprecated. Please use tf.compat.v1.disable_v2_behavior instead.\n",
      "\n",
      "WARNING:tensorflow:From C:\\Users\\archa\\AppData\\Roaming\\Python\\Python311\\site-packages\\tensorflow\\python\\compat\\v2_compat.py:98: disable_resource_variables (from tensorflow.python.ops.resource_variables_toggle) is deprecated and will be removed in a future version.\n",
      "Instructions for updating:\n",
      "non-resource variables are not supported in the long term\n"
     ]
    }
   ],
   "source": [
    "import tensorflow.compat.v1 as tf\n",
    "tf.disable_v2_behavior()"
   ]
  },
  {
   "cell_type": "code",
   "execution_count": 15,
   "id": "398feeee",
   "metadata": {},
   "outputs": [],
   "source": [
    "tf.reset_default_graph()"
   ]
  },
  {
   "cell_type": "code",
   "execution_count": 16,
   "id": "8938001b",
   "metadata": {},
   "outputs": [
    {
     "data": {
      "text/plain": [
       "13"
      ]
     },
     "execution_count": 16,
     "metadata": {},
     "output_type": "execute_result"
    }
   ],
   "source": [
    "n_dim"
   ]
  },
  {
   "cell_type": "code",
   "execution_count": 17,
   "id": "ea9dfbab",
   "metadata": {},
   "outputs": [
    {
     "name": "stdout",
     "output_type": "stream",
     "text": [
      "WARNING:tensorflow:From C:\\Users\\archa\\AppData\\Local\\Temp\\ipykernel_16332\\367612404.py:9: The name tf.train.GradientDescentOptimizer is deprecated. Please use tf.compat.v1.train.GradientDescentOptimizer instead.\n",
      "\n"
     ]
    }
   ],
   "source": [
    "x=tf.placeholder(tf.float32,[n_dim,None])\n",
    "y=tf.placeholder(tf.float32,[1,None])\n",
    "learning_rate=tf.placeholder(tf.float32,shape=())\n",
    "w=tf.Variable(tf.ones([n_dim,1]))\n",
    "b=tf.Variable(tf.zeros(1))\n",
    "init=tf.global_variables_initializer()\n",
    "y_=tf.matmul(tf.transpose(w),x)+b\n",
    "cost=tf.reduce_mean(tf.square(y_-y))\n",
    "training_step=tf.train.GradientDescentOptimizer(learning_rate).minimize(cost)"
   ]
  },
  {
   "cell_type": "markdown",
   "id": "f14f7c27",
   "metadata": {},
   "source": [
    "## evaluation state"
   ]
  },
  {
   "cell_type": "code",
   "execution_count": 18,
   "id": "0511b621",
   "metadata": {},
   "outputs": [],
   "source": [
    "def run_linear_model(learning_r,training_epochs,train_obs,train_label,debug=False):\n",
    "    sess=tf.Session()\n",
    "    sess.run(init)\n",
    "    cost_history=np.empty(shape=[0],dtype=float)\n",
    "    for epoch in range(training_epochs):\n",
    "        sess.run(training_step,feed_dict={x:train_obs,y:train_label,learning_rate:learning_r})\n",
    "        cost_=sess.run(cost,feed_dict={x:train_obs,y:train_label})\n",
    "        if (epoch%10==1) & debug:\n",
    "            print('reached epoch',epoch,'cost j =',cost_)\n",
    "    return sess,cost_history"
   ]
  },
  {
   "cell_type": "code",
   "execution_count": 19,
   "id": "adf48dda",
   "metadata": {},
   "outputs": [
    {
     "name": "stdout",
     "output_type": "stream",
     "text": [
      "reached epoch 1 cost j = 586.51025\n",
      "reached epoch 11 cost j = 360.71655\n",
      "reached epoch 21 cost j = 243.49263\n",
      "reached epoch 31 cost j = 169.55118\n",
      "reached epoch 41 cost j = 121.34518\n",
      "reached epoch 51 cost j = 89.60208\n",
      "reached epoch 61 cost j = 68.55571\n",
      "reached epoch 71 cost j = 54.51298\n",
      "reached epoch 81 cost j = 45.08405\n",
      "reached epoch 91 cost j = 38.71153\n",
      "reached epoch 101 cost j = 34.37405\n",
      "reached epoch 111 cost j = 31.398296\n",
      "reached epoch 121 cost j = 29.338121\n",
      "reached epoch 131 cost j = 27.896694\n",
      "reached epoch 141 cost j = 26.87566\n",
      "reached epoch 151 cost j = 26.141962\n",
      "reached epoch 161 cost j = 25.605972\n",
      "reached epoch 171 cost j = 25.2071\n",
      "reached epoch 181 cost j = 24.904196\n",
      "reached epoch 191 cost j = 24.66919\n",
      "reached epoch 201 cost j = 24.482819\n",
      "reached epoch 211 cost j = 24.331793\n",
      "reached epoch 221 cost j = 24.20687\n",
      "reached epoch 231 cost j = 24.101583\n",
      "reached epoch 241 cost j = 24.011343\n",
      "reached epoch 251 cost j = 23.932875\n",
      "reached epoch 261 cost j = 23.863792\n",
      "reached epoch 271 cost j = 23.80235\n",
      "reached epoch 281 cost j = 23.747227\n",
      "reached epoch 291 cost j = 23.697433\n",
      "reached epoch 301 cost j = 23.652193\n",
      "reached epoch 311 cost j = 23.610899\n",
      "reached epoch 321 cost j = 23.573057\n",
      "reached epoch 331 cost j = 23.538263\n",
      "reached epoch 341 cost j = 23.506186\n",
      "reached epoch 351 cost j = 23.476545\n",
      "reached epoch 361 cost j = 23.449093\n",
      "reached epoch 371 cost j = 23.423632\n",
      "reached epoch 381 cost j = 23.39997\n",
      "reached epoch 391 cost j = 23.377958\n",
      "reached epoch 401 cost j = 23.35744\n",
      "reached epoch 411 cost j = 23.338305\n",
      "reached epoch 421 cost j = 23.320433\n",
      "reached epoch 431 cost j = 23.303719\n",
      "reached epoch 441 cost j = 23.288076\n",
      "reached epoch 451 cost j = 23.27342\n",
      "reached epoch 461 cost j = 23.259674\n",
      "reached epoch 471 cost j = 23.246775\n",
      "reached epoch 481 cost j = 23.234652\n",
      "reached epoch 491 cost j = 23.223255\n",
      "reached epoch 501 cost j = 23.212528\n",
      "reached epoch 511 cost j = 23.202427\n",
      "reached epoch 521 cost j = 23.192902\n",
      "reached epoch 531 cost j = 23.183918\n",
      "reached epoch 541 cost j = 23.175438\n",
      "reached epoch 551 cost j = 23.167421\n",
      "reached epoch 561 cost j = 23.159845\n",
      "reached epoch 571 cost j = 23.152678\n",
      "reached epoch 581 cost j = 23.145887\n",
      "reached epoch 591 cost j = 23.139456\n",
      "reached epoch 601 cost j = 23.133356\n",
      "reached epoch 611 cost j = 23.127567\n",
      "reached epoch 621 cost j = 23.122074\n",
      "reached epoch 631 cost j = 23.116852\n",
      "reached epoch 641 cost j = 23.111889\n",
      "reached epoch 651 cost j = 23.107166\n",
      "reached epoch 661 cost j = 23.10267\n",
      "reached epoch 671 cost j = 23.098387\n",
      "reached epoch 681 cost j = 23.094303\n",
      "reached epoch 691 cost j = 23.09041\n",
      "reached epoch 701 cost j = 23.086699\n",
      "reached epoch 711 cost j = 23.083147\n",
      "reached epoch 721 cost j = 23.079758\n",
      "reached epoch 731 cost j = 23.076515\n",
      "reached epoch 741 cost j = 23.073416\n",
      "reached epoch 751 cost j = 23.07045\n",
      "reached epoch 761 cost j = 23.06761\n",
      "reached epoch 771 cost j = 23.064886\n",
      "reached epoch 781 cost j = 23.062277\n",
      "reached epoch 791 cost j = 23.059772\n",
      "reached epoch 801 cost j = 23.057373\n",
      "reached epoch 811 cost j = 23.055069\n",
      "reached epoch 821 cost j = 23.052855\n",
      "reached epoch 831 cost j = 23.050728\n",
      "reached epoch 841 cost j = 23.048681\n",
      "reached epoch 851 cost j = 23.046713\n",
      "reached epoch 861 cost j = 23.04482\n",
      "reached epoch 871 cost j = 23.042997\n",
      "reached epoch 881 cost j = 23.041243\n",
      "reached epoch 891 cost j = 23.03955\n",
      "reached epoch 901 cost j = 23.037922\n",
      "reached epoch 911 cost j = 23.03635\n",
      "reached epoch 921 cost j = 23.034836\n",
      "reached epoch 931 cost j = 23.033373\n",
      "reached epoch 941 cost j = 23.03196\n",
      "reached epoch 951 cost j = 23.0306\n",
      "reached epoch 961 cost j = 23.029282\n",
      "reached epoch 971 cost j = 23.02801\n",
      "reached epoch 981 cost j = 23.026781\n",
      "reached epoch 991 cost j = 23.025593\n",
      "reached epoch 1001 cost j = 23.02444\n",
      "reached epoch 1011 cost j = 23.023329\n",
      "reached epoch 1021 cost j = 23.022255\n",
      "reached epoch 1031 cost j = 23.021212\n",
      "reached epoch 1041 cost j = 23.020205\n",
      "reached epoch 1051 cost j = 23.019226\n",
      "reached epoch 1061 cost j = 23.018282\n",
      "reached epoch 1071 cost j = 23.017363\n",
      "reached epoch 1081 cost j = 23.016478\n",
      "reached epoch 1091 cost j = 23.015615\n",
      "reached epoch 1101 cost j = 23.01478\n",
      "reached epoch 1111 cost j = 23.013971\n",
      "reached epoch 1121 cost j = 23.013186\n",
      "reached epoch 1131 cost j = 23.012424\n",
      "reached epoch 1141 cost j = 23.011684\n",
      "reached epoch 1151 cost j = 23.01097\n",
      "reached epoch 1161 cost j = 23.010271\n",
      "reached epoch 1171 cost j = 23.009598\n",
      "reached epoch 1181 cost j = 23.00894\n",
      "reached epoch 1191 cost j = 23.0083\n",
      "reached epoch 1201 cost j = 23.007685\n",
      "reached epoch 1211 cost j = 23.007082\n",
      "reached epoch 1221 cost j = 23.0065\n",
      "reached epoch 1231 cost j = 23.005934\n",
      "reached epoch 1241 cost j = 23.00538\n",
      "reached epoch 1251 cost j = 23.004845\n",
      "reached epoch 1261 cost j = 23.004324\n",
      "reached epoch 1271 cost j = 23.003817\n",
      "reached epoch 1281 cost j = 23.003326\n",
      "reached epoch 1291 cost j = 23.002846\n",
      "reached epoch 1301 cost j = 23.00238\n",
      "reached epoch 1311 cost j = 23.001928\n",
      "reached epoch 1321 cost j = 23.001488\n",
      "reached epoch 1331 cost j = 23.001059\n",
      "reached epoch 1341 cost j = 23.000645\n",
      "reached epoch 1351 cost j = 23.000238\n",
      "reached epoch 1361 cost j = 22.999844\n",
      "reached epoch 1371 cost j = 22.999462\n",
      "reached epoch 1381 cost j = 22.999086\n",
      "reached epoch 1391 cost j = 22.998722\n",
      "reached epoch 1401 cost j = 22.998371\n",
      "reached epoch 1411 cost j = 22.998028\n",
      "reached epoch 1421 cost j = 22.997692\n",
      "reached epoch 1431 cost j = 22.997366\n",
      "reached epoch 1441 cost j = 22.997046\n",
      "reached epoch 1451 cost j = 22.996738\n",
      "reached epoch 1461 cost j = 22.996439\n",
      "reached epoch 1471 cost j = 22.996143\n",
      "reached epoch 1481 cost j = 22.995861\n",
      "reached epoch 1491 cost j = 22.99558\n",
      "reached epoch 1501 cost j = 22.995314\n",
      "reached epoch 1511 cost j = 22.995049\n",
      "reached epoch 1521 cost j = 22.994793\n",
      "reached epoch 1531 cost j = 22.99454\n",
      "reached epoch 1541 cost j = 22.994299\n",
      "reached epoch 1551 cost j = 22.994064\n",
      "reached epoch 1561 cost j = 22.993832\n",
      "reached epoch 1571 cost j = 22.993607\n",
      "reached epoch 1581 cost j = 22.993385\n",
      "reached epoch 1591 cost j = 22.993177\n",
      "reached epoch 1601 cost j = 22.992968\n",
      "reached epoch 1611 cost j = 22.992764\n",
      "reached epoch 1621 cost j = 22.992567\n",
      "reached epoch 1631 cost j = 22.992376\n",
      "reached epoch 1641 cost j = 22.992186\n",
      "reached epoch 1651 cost j = 22.992008\n",
      "reached epoch 1661 cost j = 22.991829\n",
      "reached epoch 1671 cost j = 22.991655\n",
      "reached epoch 1681 cost j = 22.991488\n",
      "reached epoch 1691 cost j = 22.991325\n",
      "reached epoch 1701 cost j = 22.991165\n",
      "reached epoch 1711 cost j = 22.991009\n",
      "reached epoch 1721 cost j = 22.990854\n",
      "reached epoch 1731 cost j = 22.990707\n",
      "reached epoch 1741 cost j = 22.990562\n",
      "reached epoch 1751 cost j = 22.990423\n",
      "reached epoch 1761 cost j = 22.990284\n",
      "reached epoch 1771 cost j = 22.990152\n",
      "reached epoch 1781 cost j = 22.990023\n",
      "reached epoch 1791 cost j = 22.989897\n",
      "reached epoch 1801 cost j = 22.989773\n",
      "reached epoch 1811 cost j = 22.989655\n",
      "reached epoch 1821 cost j = 22.989536\n",
      "reached epoch 1831 cost j = 22.989422\n",
      "reached epoch 1841 cost j = 22.989307\n",
      "reached epoch 1851 cost j = 22.9892\n",
      "reached epoch 1861 cost j = 22.989096\n",
      "reached epoch 1871 cost j = 22.988993\n",
      "reached epoch 1881 cost j = 22.988894\n",
      "reached epoch 1891 cost j = 22.988796\n",
      "reached epoch 1901 cost j = 22.988699\n",
      "reached epoch 1911 cost j = 22.988605\n",
      "reached epoch 1921 cost j = 22.988514\n",
      "reached epoch 1931 cost j = 22.988426\n",
      "reached epoch 1941 cost j = 22.98834\n",
      "reached epoch 1951 cost j = 22.988258\n",
      "reached epoch 1961 cost j = 22.988174\n",
      "reached epoch 1971 cost j = 22.988094\n",
      "reached epoch 1981 cost j = 22.988018\n",
      "reached epoch 1991 cost j = 22.987944\n"
     ]
    }
   ],
   "source": [
    "sess,cost_history=run_linear_model(learning_r=0.01,training_epochs=2000,train_obs=xtrain,train_label=ytrain,debug=True)"
   ]
  },
  {
   "cell_type": "code",
   "execution_count": 20,
   "id": "9b24499f",
   "metadata": {},
   "outputs": [
    {
     "name": "stdout",
     "output_type": "stream",
     "text": [
      "[20.80238]\n"
     ]
    },
    {
     "data": {
      "text/plain": [
       "<bound method BaseSession.close of <tensorflow.python.client.session.Session object at 0x0000020332EC85D0>>"
      ]
     },
     "execution_count": 20,
     "metadata": {},
     "output_type": "execute_result"
    }
   ],
   "source": [
    "loss=tf.keras.losses.MSE(ytest,y_)\n",
    "print(sess.run(loss,feed_dict={x:xtest}))\n",
    "sess.close"
   ]
  },
  {
   "cell_type": "code",
   "execution_count": null,
   "id": "fbe4d0ca",
   "metadata": {},
   "outputs": [],
   "source": []
  }
 ],
 "metadata": {
  "kernelspec": {
   "display_name": "Python 3 (ipykernel)",
   "language": "python",
   "name": "python3"
  },
  "language_info": {
   "codemirror_mode": {
    "name": "ipython",
    "version": 3
   },
   "file_extension": ".py",
   "mimetype": "text/x-python",
   "name": "python",
   "nbconvert_exporter": "python",
   "pygments_lexer": "ipython3",
   "version": "3.11.5"
  }
 },
 "nbformat": 4,
 "nbformat_minor": 5
}
